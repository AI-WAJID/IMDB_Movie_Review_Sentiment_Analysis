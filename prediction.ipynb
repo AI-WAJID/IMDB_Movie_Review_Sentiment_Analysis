{
 "cells": [
  {
   "cell_type": "code",
   "execution_count": 1,
   "id": "ab65c81b",
   "metadata": {},
   "outputs": [],
   "source": [
    "import numpy as np\n",
    "import tensorflow as tf\n",
    "from tensorflow.keras.datasets import imdb\n",
    "from tensorflow.keras.preprocessing import sequence\n",
    "from tensorflow.keras.models import Sequential\n",
    "from tensorflow.keras.layers import Embedding, SimpleRNN, Dense"
   ]
  },
  {
   "cell_type": "code",
   "execution_count": 2,
   "id": "44451e27",
   "metadata": {},
   "outputs": [],
   "source": [
    "word_index = imdb.get_word_index()\n",
    "reverse_word_index = {value: key for key, value in word_index.items()}\n"
   ]
  },
  {
   "cell_type": "code",
   "execution_count": 4,
   "id": "4da840e6",
   "metadata": {},
   "outputs": [
    {
     "name": "stderr",
     "output_type": "stream",
     "text": [
      "WARNING:absl:Compiled the loaded model, but the compiled metrics have yet to be built. `model.compile_metrics` will be empty until you train or evaluate the model.\n"
     ]
    },
    {
     "data": {
      "text/html": [
       "<pre style=\"white-space:pre;overflow-x:auto;line-height:normal;font-family:Menlo,'DejaVu Sans Mono',consolas,'Courier New',monospace\"><span style=\"font-weight: bold\">Model: \"sequential_1\"</span>\n",
       "</pre>\n"
      ],
      "text/plain": [
       "\u001b[1mModel: \"sequential_1\"\u001b[0m\n"
      ]
     },
     "metadata": {},
     "output_type": "display_data"
    },
    {
     "data": {
      "text/html": [
       "<pre style=\"white-space:pre;overflow-x:auto;line-height:normal;font-family:Menlo,'DejaVu Sans Mono',consolas,'Courier New',monospace\">┏━━━━━━━━━━━━━━━━━━━━━━━━━━━━━━━━━┳━━━━━━━━━━━━━━━━━━━━━━━━┳━━━━━━━━━━━━━━━┓\n",
       "┃<span style=\"font-weight: bold\"> Layer (type)                    </span>┃<span style=\"font-weight: bold\"> Output Shape           </span>┃<span style=\"font-weight: bold\">       Param # </span>┃\n",
       "┡━━━━━━━━━━━━━━━━━━━━━━━━━━━━━━━━━╇━━━━━━━━━━━━━━━━━━━━━━━━╇━━━━━━━━━━━━━━━┩\n",
       "│ embedding_1 (<span style=\"color: #0087ff; text-decoration-color: #0087ff\">Embedding</span>)         │ (<span style=\"color: #00af00; text-decoration-color: #00af00\">32</span>, <span style=\"color: #00af00; text-decoration-color: #00af00\">500</span>, <span style=\"color: #00af00; text-decoration-color: #00af00\">128</span>)         │     <span style=\"color: #00af00; text-decoration-color: #00af00\">1,280,000</span> │\n",
       "├─────────────────────────────────┼────────────────────────┼───────────────┤\n",
       "│ simple_rnn_1 (<span style=\"color: #0087ff; text-decoration-color: #0087ff\">SimpleRNN</span>)        │ (<span style=\"color: #00af00; text-decoration-color: #00af00\">32</span>, <span style=\"color: #00af00; text-decoration-color: #00af00\">128</span>)              │        <span style=\"color: #00af00; text-decoration-color: #00af00\">32,896</span> │\n",
       "├─────────────────────────────────┼────────────────────────┼───────────────┤\n",
       "│ dense_1 (<span style=\"color: #0087ff; text-decoration-color: #0087ff\">Dense</span>)                 │ (<span style=\"color: #00af00; text-decoration-color: #00af00\">32</span>, <span style=\"color: #00af00; text-decoration-color: #00af00\">1</span>)                │           <span style=\"color: #00af00; text-decoration-color: #00af00\">129</span> │\n",
       "└─────────────────────────────────┴────────────────────────┴───────────────┘\n",
       "</pre>\n"
      ],
      "text/plain": [
       "┏━━━━━━━━━━━━━━━━━━━━━━━━━━━━━━━━━┳━━━━━━━━━━━━━━━━━━━━━━━━┳━━━━━━━━━━━━━━━┓\n",
       "┃\u001b[1m \u001b[0m\u001b[1mLayer (type)                   \u001b[0m\u001b[1m \u001b[0m┃\u001b[1m \u001b[0m\u001b[1mOutput Shape          \u001b[0m\u001b[1m \u001b[0m┃\u001b[1m \u001b[0m\u001b[1m      Param #\u001b[0m\u001b[1m \u001b[0m┃\n",
       "┡━━━━━━━━━━━━━━━━━━━━━━━━━━━━━━━━━╇━━━━━━━━━━━━━━━━━━━━━━━━╇━━━━━━━━━━━━━━━┩\n",
       "│ embedding_1 (\u001b[38;5;33mEmbedding\u001b[0m)         │ (\u001b[38;5;34m32\u001b[0m, \u001b[38;5;34m500\u001b[0m, \u001b[38;5;34m128\u001b[0m)         │     \u001b[38;5;34m1,280,000\u001b[0m │\n",
       "├─────────────────────────────────┼────────────────────────┼───────────────┤\n",
       "│ simple_rnn_1 (\u001b[38;5;33mSimpleRNN\u001b[0m)        │ (\u001b[38;5;34m32\u001b[0m, \u001b[38;5;34m128\u001b[0m)              │        \u001b[38;5;34m32,896\u001b[0m │\n",
       "├─────────────────────────────────┼────────────────────────┼───────────────┤\n",
       "│ dense_1 (\u001b[38;5;33mDense\u001b[0m)                 │ (\u001b[38;5;34m32\u001b[0m, \u001b[38;5;34m1\u001b[0m)                │           \u001b[38;5;34m129\u001b[0m │\n",
       "└─────────────────────────────────┴────────────────────────┴───────────────┘\n"
      ]
     },
     "metadata": {},
     "output_type": "display_data"
    },
    {
     "data": {
      "text/html": [
       "<pre style=\"white-space:pre;overflow-x:auto;line-height:normal;font-family:Menlo,'DejaVu Sans Mono',consolas,'Courier New',monospace\"><span style=\"font-weight: bold\"> Total params: </span><span style=\"color: #00af00; text-decoration-color: #00af00\">1,313,027</span> (5.01 MB)\n",
       "</pre>\n"
      ],
      "text/plain": [
       "\u001b[1m Total params: \u001b[0m\u001b[38;5;34m1,313,027\u001b[0m (5.01 MB)\n"
      ]
     },
     "metadata": {},
     "output_type": "display_data"
    },
    {
     "data": {
      "text/html": [
       "<pre style=\"white-space:pre;overflow-x:auto;line-height:normal;font-family:Menlo,'DejaVu Sans Mono',consolas,'Courier New',monospace\"><span style=\"font-weight: bold\"> Trainable params: </span><span style=\"color: #00af00; text-decoration-color: #00af00\">1,313,025</span> (5.01 MB)\n",
       "</pre>\n"
      ],
      "text/plain": [
       "\u001b[1m Trainable params: \u001b[0m\u001b[38;5;34m1,313,025\u001b[0m (5.01 MB)\n"
      ]
     },
     "metadata": {},
     "output_type": "display_data"
    },
    {
     "data": {
      "text/html": [
       "<pre style=\"white-space:pre;overflow-x:auto;line-height:normal;font-family:Menlo,'DejaVu Sans Mono',consolas,'Courier New',monospace\"><span style=\"font-weight: bold\"> Non-trainable params: </span><span style=\"color: #00af00; text-decoration-color: #00af00\">0</span> (0.00 B)\n",
       "</pre>\n"
      ],
      "text/plain": [
       "\u001b[1m Non-trainable params: \u001b[0m\u001b[38;5;34m0\u001b[0m (0.00 B)\n"
      ]
     },
     "metadata": {},
     "output_type": "display_data"
    },
    {
     "data": {
      "text/html": [
       "<pre style=\"white-space:pre;overflow-x:auto;line-height:normal;font-family:Menlo,'DejaVu Sans Mono',consolas,'Courier New',monospace\"><span style=\"font-weight: bold\"> Optimizer params: </span><span style=\"color: #00af00; text-decoration-color: #00af00\">2</span> (12.00 B)\n",
       "</pre>\n"
      ],
      "text/plain": [
       "\u001b[1m Optimizer params: \u001b[0m\u001b[38;5;34m2\u001b[0m (12.00 B)\n"
      ]
     },
     "metadata": {},
     "output_type": "display_data"
    }
   ],
   "source": [
    "from tensorflow.keras.models import load_model\n",
    "\n",
    "# Load the pre trained model with relu activation\n",
    "model = load_model('simple_rnn_imdb.h5')\n",
    "model.summary()"
   ]
  },
  {
   "cell_type": "code",
   "execution_count": 5,
   "id": "f450e945",
   "metadata": {},
   "outputs": [
    {
     "data": {
      "text/plain": [
       "[array([[ 1.7335408 , -0.1100966 , -1.118018  , ...,  0.09256649,\n",
       "         -0.22614394, -1.746573  ],\n",
       "        [ 0.18214259, -0.03781977, -0.10437001, ...,  0.02165502,\n",
       "         -0.03496766, -0.15802668],\n",
       "        [ 0.2615008 , -0.04245885, -0.02812884, ..., -0.1270558 ,\n",
       "          0.05766599, -0.1088491 ],\n",
       "        ...,\n",
       "        [-0.03990623, -0.11903823,  0.04580712, ...,  0.09726556,\n",
       "         -0.15848666,  0.10802483],\n",
       "        [-0.02845393,  0.09081598, -0.11087673, ..., -0.03225452,\n",
       "         -0.04183975, -0.0943163 ],\n",
       "        [ 0.02015807, -0.03030464, -0.02415467, ...,  0.09058634,\n",
       "         -0.14236476,  0.1470726 ]], dtype=float32),\n",
       " array([[-0.18196909,  0.01545648,  0.12754698, ..., -0.18748719,\n",
       "         -0.1452489 , -0.08599566],\n",
       "        [ 0.21760115,  0.13201502, -0.20601396, ...,  0.083711  ,\n",
       "         -0.10645954,  0.05132633],\n",
       "        [ 0.06710456,  0.07026625, -0.21000913, ...,  0.09290396,\n",
       "          0.03604294, -0.15017813],\n",
       "        ...,\n",
       "        [ 0.00985467,  0.10047779, -0.04414745, ..., -0.11386072,\n",
       "          0.07232431, -0.0833433 ],\n",
       "        [-0.26308534, -0.13947293, -0.16352718, ..., -0.00273058,\n",
       "         -0.09474405,  0.00691343],\n",
       "        [-0.07101091,  0.1348857 ,  0.11651166, ...,  0.14462565,\n",
       "          0.02280661, -0.16752613]], dtype=float32),\n",
       " array([[ 0.01407196,  0.01483211,  0.04285973, ..., -0.05013354,\n",
       "         -0.08162904,  0.20546672],\n",
       "        [ 0.07836828,  0.06466458, -0.10073972, ..., -0.06611686,\n",
       "          0.08833984,  0.09945733],\n",
       "        [ 0.03859071,  0.05860127, -0.05059552, ..., -0.06710928,\n",
       "         -0.09063068,  0.10898446],\n",
       "        ...,\n",
       "        [-0.11565822,  0.13468343, -0.04886159, ..., -0.02640516,\n",
       "          0.14619555, -0.01123263],\n",
       "        [-0.14951383, -0.0380534 , -0.30088514, ...,  0.01095953,\n",
       "         -0.03869255,  0.01545688],\n",
       "        [-0.18931144, -0.08053999,  0.04593489, ..., -0.03472256,\n",
       "          0.03424226, -0.00862173]], dtype=float32),\n",
       " array([-2.14118101e-02, -1.06226103e-02, -5.78706153e-03, -1.37042440e-02,\n",
       "         5.11511369e-03,  4.09976728e-02,  2.83595119e-02, -3.97160575e-02,\n",
       "         2.43774988e-02,  5.56268683e-03, -6.14910051e-02,  2.05672234e-02,\n",
       "        -1.30309090e-02, -1.26125114e-02, -3.45362425e-02,  4.98918667e-02,\n",
       "        -3.67338136e-02, -3.13619338e-02, -7.01441616e-03, -2.06784680e-02,\n",
       "        -8.74578208e-03, -7.93633610e-03, -6.82388758e-03, -1.80150457e-02,\n",
       "        -1.13021955e-02, -5.03113940e-02, -2.00953856e-02, -3.41973640e-02,\n",
       "         9.87750571e-03, -3.99313197e-02, -2.43099872e-02, -8.78780261e-02,\n",
       "        -3.50710377e-02, -6.90080272e-03,  6.17707102e-03,  2.04156041e-02,\n",
       "         2.96232253e-02,  6.13587908e-02, -2.51720659e-02,  1.06480882e-01,\n",
       "        -1.71134099e-02, -8.24748538e-03, -6.45682439e-02, -4.87228148e-02,\n",
       "        -3.87222432e-02, -2.05905046e-02, -7.32550174e-02, -2.60567889e-02,\n",
       "        -1.77912172e-02, -3.52576673e-02, -5.82552701e-02,  8.16732831e-03,\n",
       "        -4.37636487e-02,  2.10320633e-02, -2.25125067e-03,  1.63386893e-02,\n",
       "        -3.54528590e-03, -3.42100151e-02, -7.99582452e-02, -4.32646163e-02,\n",
       "        -8.17856006e-03, -3.93712409e-02, -2.51482446e-02, -3.96325104e-02,\n",
       "         3.20068523e-02, -4.73099574e-02,  1.36236697e-01, -6.70030862e-02,\n",
       "        -3.97562720e-02, -7.95679167e-02,  3.66840549e-02, -4.62174788e-02,\n",
       "         6.11089496e-03, -2.45921463e-02,  1.16267251e-02, -7.72548914e-02,\n",
       "        -4.26002331e-02, -6.42049685e-02, -5.74901253e-02,  1.41953994e-02,\n",
       "         8.91476448e-05, -6.29143938e-02, -1.86195243e-02, -1.87701378e-02,\n",
       "        -3.76538597e-02, -1.49992285e-02, -7.77228875e-03, -2.22377740e-02,\n",
       "        -3.19932736e-02,  2.25452725e-02, -2.56563500e-02, -9.55358818e-02,\n",
       "        -3.24391313e-02,  3.65049788e-03,  2.12209169e-02, -4.50719846e-03,\n",
       "        -1.70074310e-02,  1.25554064e-02,  2.09323578e-02, -7.82648027e-02,\n",
       "        -6.19202033e-02, -1.62932090e-02, -3.95522974e-02, -8.03109184e-02,\n",
       "         8.21089558e-03, -7.63368309e-02,  5.53040951e-03, -4.27660458e-02,\n",
       "        -4.11125682e-02, -5.07438881e-03, -1.74028873e-02,  2.84355767e-02,\n",
       "         9.62892454e-03, -6.16037436e-02,  6.06609322e-03,  2.17896812e-02,\n",
       "         3.93179730e-02, -3.43904197e-02,  6.82903361e-03, -5.47285005e-02,\n",
       "        -4.85995971e-02, -5.52177206e-02,  2.61232276e-02, -1.92805119e-02,\n",
       "         1.74510106e-03, -3.73363234e-02,  5.78134833e-03, -3.31742573e-03],\n",
       "       dtype=float32),\n",
       " array([[ 0.22612618],\n",
       "        [-0.07100997],\n",
       "        [-0.01830594],\n",
       "        [-0.00419778],\n",
       "        [ 0.26043966],\n",
       "        [-0.10601915],\n",
       "        [-0.0578597 ],\n",
       "        [ 0.07205843],\n",
       "        [ 0.04197405],\n",
       "        [ 0.23542875],\n",
       "        [ 0.19868091],\n",
       "        [ 0.06874944],\n",
       "        [-0.13461442],\n",
       "        [ 0.21559025],\n",
       "        [ 0.0119533 ],\n",
       "        [ 0.21134523],\n",
       "        [ 0.10155112],\n",
       "        [-0.03912497],\n",
       "        [-0.25630355],\n",
       "        [-0.16493158],\n",
       "        [ 0.093572  ],\n",
       "        [ 0.24967784],\n",
       "        [ 0.01979231],\n",
       "        [-0.03576091],\n",
       "        [-0.03352672],\n",
       "        [ 0.16258901],\n",
       "        [-0.07767647],\n",
       "        [ 0.05163001],\n",
       "        [ 0.04372488],\n",
       "        [ 0.38305056],\n",
       "        [-0.11904257],\n",
       "        [ 0.12074823],\n",
       "        [ 0.2063171 ],\n",
       "        [ 0.05148807],\n",
       "        [-0.6340154 ],\n",
       "        [-0.18122086],\n",
       "        [ 0.18588558],\n",
       "        [ 0.1877138 ],\n",
       "        [-0.09504647],\n",
       "        [-0.18112983],\n",
       "        [-0.107812  ],\n",
       "        [ 0.13252723],\n",
       "        [ 0.2473471 ],\n",
       "        [ 0.04121839],\n",
       "        [-0.21643293],\n",
       "        [ 0.13274258],\n",
       "        [ 0.04638409],\n",
       "        [ 0.17702705],\n",
       "        [-0.00433124],\n",
       "        [ 0.21131985],\n",
       "        [ 0.18013202],\n",
       "        [ 0.4405923 ],\n",
       "        [ 0.09561854],\n",
       "        [-0.14657122],\n",
       "        [-0.26399407],\n",
       "        [ 0.03447268],\n",
       "        [ 0.1558889 ],\n",
       "        [ 0.06495056],\n",
       "        [-0.6891637 ],\n",
       "        [-0.23499505],\n",
       "        [ 0.3366435 ],\n",
       "        [ 0.13333622],\n",
       "        [ 0.5632407 ],\n",
       "        [ 0.0982195 ],\n",
       "        [-0.12154539],\n",
       "        [ 0.08111797],\n",
       "        [ 0.16293001],\n",
       "        [ 0.23414247],\n",
       "        [-0.12020709],\n",
       "        [-0.05419978],\n",
       "        [-0.14830314],\n",
       "        [-0.1480138 ],\n",
       "        [-0.23086157],\n",
       "        [ 0.2785841 ],\n",
       "        [ 0.13967925],\n",
       "        [ 0.13981138],\n",
       "        [-0.02968307],\n",
       "        [ 0.30455613],\n",
       "        [-0.22008523],\n",
       "        [-0.1483728 ],\n",
       "        [-0.12938441],\n",
       "        [ 0.10841227],\n",
       "        [-0.1205522 ],\n",
       "        [-0.19536585],\n",
       "        [ 0.21228902],\n",
       "        [ 0.17422575],\n",
       "        [ 0.04772552],\n",
       "        [-0.02157632],\n",
       "        [ 0.08117467],\n",
       "        [-0.20758204],\n",
       "        [ 0.1592674 ],\n",
       "        [-0.0426572 ],\n",
       "        [-0.13150442],\n",
       "        [-0.15887271],\n",
       "        [-0.13810587],\n",
       "        [ 0.29810137],\n",
       "        [-0.00993917],\n",
       "        [ 0.22248709],\n",
       "        [-0.16985129],\n",
       "        [ 0.32817027],\n",
       "        [-0.10454405],\n",
       "        [ 0.78769803],\n",
       "        [ 0.3165339 ],\n",
       "        [-0.02949883],\n",
       "        [-0.01184896],\n",
       "        [-0.330644  ],\n",
       "        [-0.07412851],\n",
       "        [ 0.18481451],\n",
       "        [-0.04453548],\n",
       "        [ 0.04062612],\n",
       "        [-0.05270857],\n",
       "        [ 0.13120957],\n",
       "        [-0.12990186],\n",
       "        [ 0.13995561],\n",
       "        [-0.28393754],\n",
       "        [-0.15678684],\n",
       "        [ 0.18688421],\n",
       "        [ 0.1095572 ],\n",
       "        [-0.03308356],\n",
       "        [-0.23345079],\n",
       "        [ 0.01396855],\n",
       "        [-0.23801427],\n",
       "        [ 0.08269667],\n",
       "        [-0.0666598 ],\n",
       "        [ 0.11083362],\n",
       "        [-0.1946023 ],\n",
       "        [-0.03075173],\n",
       "        [ 0.2294434 ]], dtype=float32),\n",
       " array([-0.4206722], dtype=float32)]"
      ]
     },
     "execution_count": 5,
     "metadata": {},
     "output_type": "execute_result"
    }
   ],
   "source": [
    "model.get_weights()"
   ]
  },
  {
   "cell_type": "code",
   "execution_count": 6,
   "id": "fecd3109",
   "metadata": {},
   "outputs": [],
   "source": [
    "# Step 2: Helper Functions\n",
    "# Functions to decode reviews\n",
    "def decode_review(encoded_review):\n",
    "    return ' '.join([reverse_word_index.get(i-3, '?') for i in encoded_review])\n",
    "\n",
    "# Function to preprocess user input \n",
    "def preprocess_text(text):\n",
    "    words = text.lower().split()\n",
    "    encoded_review = [word_index.get(word, 2) + 3 for word in words]\n",
    "    padded_review = sequence.pad_sequences([encoded_review], maxlen=500)\n",
    "    return padded_review"
   ]
  },
  {
   "cell_type": "code",
   "execution_count": null,
   "id": "273a25ce",
   "metadata": {},
   "outputs": [],
   "source": [
    "#Step 3\n",
    "# Prediction function\n",
    "\n",
    "def predict_sentiment(review):\n",
    "    preprocessed_input = preprocess_text(review)\n",
    "\n",
    "    prediction = model.predict(preprocessed_input)\n",
    "\n",
    "    sentiment = 'Positive' if prediction[0][0]>0.5 else 'Negative'\n",
    "\n",
    "    return sentiment, prediction[0][0]"
   ]
  },
  {
   "cell_type": "code",
   "execution_count": 8,
   "id": "f5ccd693",
   "metadata": {},
   "outputs": [
    {
     "name": "stdout",
     "output_type": "stream",
     "text": [
      "\u001b[1m1/1\u001b[0m \u001b[32m━━━━━━━━━━━━━━━━━━━━\u001b[0m\u001b[37m\u001b[0m \u001b[1m1s\u001b[0m 684ms/step\n",
      "Review: This movie was fantastic! The acting was great and plot was thrilling\n",
      "Sentiment: Positive\n",
      "Prediction Score: 0.8263425827026367\n"
     ]
    }
   ],
   "source": [
    "#Step 4 user i/p and prediction\n",
    "#Example review for prediction\n",
    "example_review = 'This movie was fantastic! The acting was great and plot was thrilling'\n",
    "\n",
    "sentiment, score = predict_sentiment(example_review)\n",
    "\n",
    "print(f'Review: {example_review}')\n",
    "print(f'Sentiment: {sentiment}')\n",
    "print(f'Prediction Score: {score}')"
   ]
  },
  {
   "cell_type": "code",
   "execution_count": null,
   "id": "4577375b",
   "metadata": {},
   "outputs": [],
   "source": []
  }
 ],
 "metadata": {
  "kernelspec": {
   "display_name": "base",
   "language": "python",
   "name": "python3"
  },
  "language_info": {
   "codemirror_mode": {
    "name": "ipython",
    "version": 3
   },
   "file_extension": ".py",
   "mimetype": "text/x-python",
   "name": "python",
   "nbconvert_exporter": "python",
   "pygments_lexer": "ipython3",
   "version": "3.11.7"
  }
 },
 "nbformat": 4,
 "nbformat_minor": 5
}
